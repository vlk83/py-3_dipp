{
 "cells": [
  {
   "cell_type": "code",
   "execution_count": 34,
   "metadata": {},
   "outputs": [],
   "source": [
    "import requests\n",
    "import time\n",
    "import json\n",
    "from pprint import pprint\n",
    "\n",
    "vk_api_token_blokhinoleg = 'd13e692be69592b09fd22c77a590dd34e186e6d696daa88d6d981e1b4e296b14acb377e82dcbc81dc0f22'\n",
    "\n",
    "# запрос: screen_name или id пользователя\n",
    "request_from_user = 'tim_leary' #5030613\n",
    "\n",
    "if str(request_from_user).isdigit():\n",
    "    vk_user_id = request_from_user\n",
    "else:\n",
    "    params = {'screen_name': request_from_user}\n",
    "    vk_user_id = requests.get('https://api.vk.com/method/utils.resolveScreenName', params).json()['response']['object_id']\n"
   ]
  },
  {
   "cell_type": "code",
   "execution_count": 35,
   "metadata": {},
   "outputs": [],
   "source": [
    "# получаем списки своих друзей и групп\n",
    "params = {'access_token': vk_api_token_blokhinoleg, 'user_id': vk_user_id}\n",
    "list_of_my_friends_id = requests.get('https://api.vk.com/method/friends.get', params).json()['response']\n",
    "list_of_my_groups_id = requests.get('https://api.vk.com/method/groups.get', params).json()['response']\n"
   ]
  },
  {
   "cell_type": "code",
   "execution_count": 36,
   "metadata": {},
   "outputs": [
    {
     "name": "stdout",
     "output_type": "stream",
     "text": [
      ".................................................................................................... 100\n",
      ".................................................................................................... 200\n",
      ".................................................................................................... 300\n",
      ".................................................................................................... 400\n",
      ".................................................................................................... 500\n",
      ".................................................................................................... 600\n",
      ".................................................................................................... 700\n",
      ".................................................................................................... 800\n",
      "........................"
     ]
    }
   ],
   "source": [
    "# создаем список всех групп друзей\n",
    "aggregate_groups_list = []\n",
    "n_of_dots = 0\n",
    "\n",
    "def add_groups_id_into_aggregate_list(friend_id):\n",
    "    try:\n",
    "        params = {'access_token': vk_api_token_blokhinoleg, 'user_id': friend_id}\n",
    "        list_of_friends_groups_id = requests.get('https://api.vk.com/method/groups.get', params).json()['response']\n",
    "        aggregate_groups_list.extend(list_of_friends_groups_id)\n",
    "    except:\n",
    "        pass\n",
    "\n",
    "for friend_id in list_of_my_friends_id:\n",
    "    add_groups_id_into_aggregate_list(friend_id)\n",
    "    time.sleep(0.34)\n",
    "    print('.', end='')\n",
    "    n_of_dots = n_of_dots + 1\n",
    "    if n_of_dots%100 == 0:\n",
    "        print(' ' + str(n_of_dots))\n"
   ]
  },
  {
   "cell_type": "code",
   "execution_count": 37,
   "metadata": {},
   "outputs": [],
   "source": [
    "# получаем список \"секретных\" групп\n",
    "set_of_my_secrets_groups_id = set(list_of_my_groups_id) - set(aggregate_groups_list)\n"
   ]
  },
  {
   "cell_type": "code",
   "execution_count": 38,
   "metadata": {},
   "outputs": [
    {
     "name": "stdout",
     "output_type": "stream",
     "text": [
      ".......... 10\n",
      "...."
     ]
    }
   ],
   "source": [
    "# создаем желаемый список словарей с информацией о группах\n",
    "list_of_my_secrets_groups_inf = []\n",
    "n_of_dots = 0\n",
    "\n",
    "def add_groups_inf_into_list(group_id):\n",
    "    try:\n",
    "        dict_file_list = dict()\n",
    "        params = {'group_id': group_id, 'fields': 'members_count'}\n",
    "        dict_group_inf = requests.get('https://api.vk.com/method/groups.getById', params).json()['response'][0]\n",
    "        dict_file_list['gid'] = dict_group_inf['gid']\n",
    "        dict_file_list['name'] = dict_group_inf['name']\n",
    "        dict_file_list['members_count'] = dict_group_inf['members_count']\n",
    "        list_of_my_secrets_groups_inf.append(dict_file_list)\n",
    "    except:\n",
    "        pass\n",
    "\n",
    "    \n",
    "for group_id in set_of_my_secrets_groups_id:\n",
    "    add_groups_inf_into_list(group_id)\n",
    "    time.sleep(0.34)\n",
    "    print('.', end='')\n",
    "    n_of_dots = n_of_dots + 1\n",
    "    if n_of_dots%10 == 0:\n",
    "        print(' ' + str(n_of_dots))\n"
   ]
  },
  {
   "cell_type": "code",
   "execution_count": 39,
   "metadata": {
    "collapsed": true
   },
   "outputs": [],
   "source": [
    "# сохраняем список в json-файл\n",
    "with open('list_of_my_secrets_groups_inf.json', 'w', encoding='utf8') as f:\n",
    "    json.dump(list_of_my_secrets_groups_inf, f, ensure_ascii=False)\n",
    "    "
   ]
  },
  {
   "cell_type": "code",
   "execution_count": 40,
   "metadata": {},
   "outputs": [
    {
     "name": "stdout",
     "output_type": "stream",
     "text": [
      "[{'gid': 47465154, 'members_count': 8963, 'name': 'TOP PEOPLE MORDOR'},\n",
      " {'gid': 33410020,\n",
      "  'members_count': 89,\n",
      "  'name': 'Газировка Dr Pepper в Нижнем Новгороде'},\n",
      " {'gid': 56450854, 'members_count': 6607, 'name': '.perversiō'},\n",
      " {'gid': 66697672, 'members_count': 472, 'name': 'sivard'},\n",
      " {'gid': 41049802, 'members_count': 5724, 'name': 'Цитаты из лучших сериалов'},\n",
      " {'gid': 25447883, 'members_count': 11114, 'name': 'Леворадикал'},\n",
      " {'gid': 32174764, 'members_count': 1735, 'name': 'Anton Maskeliade'},\n",
      " {'gid': 53023788,\n",
      "  'members_count': 2952,\n",
      "  'name': 'Математика - это проще, чем кажется'},\n",
      " {'gid': 43888243,\n",
      "  'members_count': 4031,\n",
      "  'name': 'Храбрейшие Воины | Bravest Warriors | BW Club'},\n",
      " {'gid': 39595315,\n",
      "  'members_count': 93966,\n",
      "  'name': 'Тесак против Педофила \\\\ Оккупай-педофиляй 18+'},\n",
      " {'gid': 23750039, 'members_count': 8253, 'name': 'liquid sound'},\n",
      " {'gid': 40251322, 'members_count': 8836, 'name': 'MW'},\n",
      " {'gid': 58135579,\n",
      "  'members_count': 5208,\n",
      "  'name': 'Нарушители ( Старая группа )'},\n",
      " {'gid': 37247932, 'members_count': 13934, 'name': 'PUBLIC.MOV'}]\n"
     ]
    }
   ],
   "source": [
    "# проверка\n",
    "from pprint import pprint\n",
    "with open('list_of_my_secrets_groups_inf.json', 'r', encoding='utf8') as f:\n",
    "    pprint(json.load(f))"
   ]
  }
 ],
 "metadata": {
  "kernelspec": {
   "display_name": "Python 3",
   "language": "python",
   "name": "python3"
  },
  "language_info": {
   "codemirror_mode": {
    "name": "ipython",
    "version": 3
   },
   "file_extension": ".py",
   "mimetype": "text/x-python",
   "name": "python",
   "nbconvert_exporter": "python",
   "pygments_lexer": "ipython3",
   "version": "3.6.0"
  }
 },
 "nbformat": 4,
 "nbformat_minor": 2
}
